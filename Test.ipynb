{
 "cells": [
  {
   "cell_type": "markdown",
   "metadata": {},
   "source": [
    "# Testing JupyterLab Notebook with Anaconda\n",
    "Mike Poirier (2021-04-17)  \n",
    "An example of creating interactive graphs using the **ipywidgets** module in Jupyter Notebooks."
   ]
  },
  {
   "cell_type": "markdown",
   "metadata": {},
   "source": [
    "### How-To Host Online with [Binder](https://mybinder.org/)\n",
    "- https://github.com/binder-examples/conda\n",
    "- https://annefou.github.io/jupyter_dashboards/06-sharing-binder/index.html\n",
    "\n",
    "### Import Required Modules\n",
    "- install @jupyter-widgets/jupyterlab-manager extension in Jupyter Lab\n",
    "- install node.js through JupyterLab Terminal\n",
    "- update node.js using **conda update node.js** command in Terminal"
   ]
  },
  {
   "cell_type": "code",
   "execution_count": 44,
   "metadata": {},
   "outputs": [],
   "source": [
    "import numpy as np\n",
    "import matplotlib.pyplot as plt\n",
    "\n",
    "from ipywidgets import interact\n",
    "import ipywidgets as widgets "
   ]
  },
  {
   "cell_type": "markdown",
   "metadata": {},
   "source": [
    "### **Example #1:** Using the *@interact decorator* to display an interactive plot\n",
    "This simple example changes the final y-coordinate for the 5th point on the graph.\n",
    "- Official [Widget List](https://minrk-ipywidgets.readthedocs.io/en/latest/examples/Widget%20List.html) documentation\n",
    "- A great [ipywidgets tutorial](https://coderzcolumn.com/tutorials/python/interactive-widgets-in-jupyter-notebook-using-ipywidgets)"
   ]
  },
  {
   "cell_type": "code",
   "execution_count": 52,
   "metadata": {},
   "outputs": [
    {
     "data": {
      "application/vnd.jupyter.widget-view+json": {
       "model_id": "d8a8f608fd1d441d85358fdec4dae622",
       "version_major": 2,
       "version_minor": 0
      },
      "text/plain": [
       "interactive(children=(IntSlider(value=10, description='y5', max=20), Dropdown(description='type', options=('ro…"
      ]
     },
     "metadata": {},
     "output_type": "display_data"
    }
   ],
   "source": [
    "interact(f, y5=(0, 20), type=['ro', 'b^', 'g--'])\n",
    "def f(y5=10, type='bo'):\n",
    "    x = np.array([1, 2, 3, 4, 5])\n",
    "    y = np.array([2, 4, 6, 8, y5])\n",
    "    plt.plot(x, y, type)"
   ]
  },
  {
   "cell_type": "markdown",
   "metadata": {},
   "source": [
    "### **Example #2:** An Interactive Expontential Equation\n",
    "- A handly [MathJax Overview](https://math.meta.stackexchange.com/questions/5020/mathjax-basic-tutorial-and-quick-reference) with Markdown\n",
    "$$ y = x^b$$"
   ]
  },
  {
   "cell_type": "code",
   "execution_count": 36,
   "metadata": {},
   "outputs": [
    {
     "data": {
      "application/vnd.jupyter.widget-view+json": {
       "model_id": "bcfb3534f6394ffd805c3d07bc2b5006",
       "version_major": 2,
       "version_minor": 0
      },
      "text/plain": [
       "interactive(children=(FloatSlider(value=1.0, description='a', max=5.0, step=0.5), IntSlider(value=2, descripti…"
      ]
     },
     "metadata": {},
     "output_type": "display_data"
    }
   ],
   "source": [
    "@interact(a=(0, 5, 0.5), b=(1,10))\n",
    "def f(a=1, b=2):\n",
    "    x = np.arange(0, 10, 1)\n",
    "    y = a*(x**b)\n",
    "    plt.plot(x, y, 'bo--')\n",
    "    #plt.grid()"
   ]
  },
  {
   "cell_type": "markdown",
   "metadata": {},
   "source": [
    "### **Example #3:** An Interactive Quadratic Equation & Free-Fall Kinematics (Parabolic Motion)\n",
    "$$ ax^2 + bx + c = 0 \\; {\\rightarrow} \\; s = ut + \\frac12gt^2$$\n",
    "$$ x = t \\qquad a = \\frac12g \\qquad b = u \\qquad c = -s $$"
   ]
  },
  {
   "cell_type": "code",
   "execution_count": 4,
   "metadata": {},
   "outputs": [],
   "source": [
    "# To be added soon..."
   ]
  }
 ],
 "metadata": {
  "kernelspec": {
   "display_name": "Python 3",
   "language": "python",
   "name": "python3"
  },
  "language_info": {
   "codemirror_mode": {
    "name": "ipython",
    "version": 3
   },
   "file_extension": ".py",
   "mimetype": "text/x-python",
   "name": "python",
   "nbconvert_exporter": "python",
   "pygments_lexer": "ipython3",
   "version": "3.8.5"
  }
 },
 "nbformat": 4,
 "nbformat_minor": 4
}
