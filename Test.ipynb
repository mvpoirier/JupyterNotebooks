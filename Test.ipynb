{
 "cells": [
  {
   "cell_type": "markdown",
   "metadata": {},
   "source": [
    "# Testing JupyterLab Notebook with Anaconda\n",
    "An example of creating interactive graphs using **ipywidgets** module."
   ]
  },
  {
   "cell_type": "markdown",
   "metadata": {},
   "source": [
    "### How-To Host Online with [Binder](https://mybinder.org/)\n",
    "- https://github.com/binder-examples/conda\n",
    "\n",
    "### Import Required Modules\n",
    "- install @jupyter-widgets/jupyterlab-manager extension in Jupyter Lab\n",
    "- install node.js through JupyterLab Terminal\n",
    "- update node.js using **conda update node.js** command in Terminal"
   ]
  },
  {
   "cell_type": "code",
   "execution_count": 1,
   "metadata": {},
   "outputs": [],
   "source": [
    "import numpy as np\n",
    "import matplotlib.pyplot as plt\n",
    "\n",
    "from ipywidgets import interact\n",
    "import ipywidgets as widgets "
   ]
  },
  {
   "cell_type": "markdown",
   "metadata": {},
   "source": [
    "### **Example #1:** Using the *@interact decorator* to display an interactive plot\n",
    "This simple example changes the final y-coordinate for the 5th point on the graph.\n",
    "- A handly [Widget List](https://minrk-ipywidgets.readthedocs.io/en/latest/examples/Widget%20List.html)"
   ]
  },
  {
   "cell_type": "code",
   "execution_count": 2,
   "metadata": {},
   "outputs": [
    {
     "data": {
      "application/vnd.jupyter.widget-view+json": {
       "model_id": "33b7b3e3186941fd88f978a0fd11db85",
       "version_major": 2,
       "version_minor": 0
      },
      "text/plain": [
       "interactive(children=(IntSlider(value=10, description='y5', max=20), Output()), _dom_classes=('widget-interact…"
      ]
     },
     "metadata": {},
     "output_type": "display_data"
    }
   ],
   "source": [
    "@interact(y5=(0, 20))\n",
    "def f(y5=10):\n",
    "    x = np.array([1, 2, 3, 4, 5])\n",
    "    y = np.array([2, 4, 6, 8, y5])\n",
    "    plt.plot(x, y, 'ro')"
   ]
  },
  {
   "cell_type": "markdown",
   "metadata": {},
   "source": [
    "### **Example #2:** An Interactive Expontential Equation\n",
    "- A handly [MathJax Overview](https://math.meta.stackexchange.com/questions/5020/mathjax-basic-tutorial-and-quick-reference) with Markdown\n",
    "$$ y = x^b$$"
   ]
  },
  {
   "cell_type": "code",
   "execution_count": 3,
   "metadata": {},
   "outputs": [
    {
     "data": {
      "application/vnd.jupyter.widget-view+json": {
       "model_id": "fb87157d790441bb824458dd22a8a6fb",
       "version_major": 2,
       "version_minor": 0
      },
      "text/plain": [
       "interactive(children=(FloatSlider(value=1.0, description='a', max=5.0, step=0.5), IntSlider(value=2, descripti…"
      ]
     },
     "metadata": {},
     "output_type": "display_data"
    }
   ],
   "source": [
    "@interact(a=(0, 5, 0.5), b=(1,10))\n",
    "def f(a=1, b=2):\n",
    "    x = np.arange(0, 10, 1)\n",
    "    y = a*(x**b)\n",
    "    plt.plot(x, y, 'bo--')\n",
    "    #plt.grid()"
   ]
  },
  {
   "cell_type": "markdown",
   "metadata": {},
   "source": [
    "### **Example #3:** An Interactive Quadratic Equation & Free-Fall Kinematics (Parabolic Motion)\n",
    "$$ ax^2 + bx + c = 0 \\; {\\rightarrow} \\; s = ut + \\frac12gt^2$$\n",
    "$$ x = t \\qquad a = \\frac12g \\qquad b = u \\qquad c = -s $$"
   ]
  },
  {
   "cell_type": "code",
   "execution_count": null,
   "metadata": {},
   "outputs": [],
   "source": []
  }
 ],
 "metadata": {
  "kernelspec": {
   "display_name": "Python 3",
   "language": "python",
   "name": "python3"
  },
  "language_info": {
   "codemirror_mode": {
    "name": "ipython",
    "version": 3
   },
   "file_extension": ".py",
   "mimetype": "text/x-python",
   "name": "python",
   "nbconvert_exporter": "python",
   "pygments_lexer": "ipython3",
   "version": "3.8.5"
  }
 },
 "nbformat": 4,
 "nbformat_minor": 4
}
